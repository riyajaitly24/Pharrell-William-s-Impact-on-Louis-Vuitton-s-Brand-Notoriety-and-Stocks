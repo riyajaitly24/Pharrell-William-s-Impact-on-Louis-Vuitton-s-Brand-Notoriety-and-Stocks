{
 "cells": [
  {
   "cell_type": "markdown",
   "metadata": {},
   "source": [
    "# COGS 108 - Final Project (change this to your project's title)\n",
    "\n",
    "# Permissions\n",
    "\n",
    "Place an `X` in the appropriate bracket below to specify if you would like your group's project to be made available to the public. (Note that student names will be included (but PIDs will be scraped from any groups who include their PIDs).\n",
    "\n",
    "* [  ] YES - make available\n",
    "* [  ] NO - keep private\n",
    "\n",
    "# Names\n",
    "\n",
    "- Jeralyn Martinez\n",
    "- Ankita Inamti\n",
    "- Mrinaal Sayal\n",
    "- Riya Jaitly\n",
    "- Abigail Daulo\n",
    "\n",
    "# Abstract\n",
    "\n",
    "Please write one to four paragraphs that describe a very brief overview of why you did this, how you did, and the major findings and conclusions."
   ]
  },
  {
   "cell_type": "markdown",
   "metadata": {},
   "source": [
    "# Research Question"
   ]
  },
  {
   "cell_type": "markdown",
   "metadata": {},
   "source": [
    "-  Include a specific, clear data science question.\n",
    "-  Make sure what you're measuring (variables) to answer the question is clear\n",
    "\n",
    "What is your research question? Include the specific question you're setting out to answer. This question should be specific, answerable with data, and clear. A general question with specific subquestions is permitted. (1-2 sentences)\n",
    "\n",
    "Research Question: How has the appointment of Pharrell Williams as the menswear designer influenced the popularity and perception of Louis Vuitton as a brand?\n",
    "\n",
    "Variables being measured:\n",
    "\n",
    "Stock increase/decrease over time\n",
    "search trends\n",
    "\n"
   ]
  },
  {
   "cell_type": "markdown",
   "metadata": {},
   "source": [
    "## Background and Prior Work"
   ]
  },
  {
   "cell_type": "markdown",
   "metadata": {},
   "source": [
    "\n",
    "- Include a general introduction to your topic\n",
    "- Include explanation of what work has been done previously\n",
    "- Include citations or links to previous work\n",
    "\n",
    "This section will present the background and context of your topic and question in a few paragraphs. Include a general introduction to your topic and then describe what information you currently know about the topic after doing your initial research. Include references to other projects who have asked similar questions or approached similar problems. Explain what others have learned in their projects.\n",
    "\n",
    "Find some relevant prior work, and reference those sources, summarizing what each did and what they learned. Even if you think you have a totally novel question, find the most similar prior work that you can and discuss how it relates to your project.\n",
    "\n",
    "References can be research publications, but they need not be. Blogs, GitHub repositories, company websites, etc., are all viable references if they are relevant to your project. It must be clear which information comes from which references. (2-3 paragraphs, including at least 2 references)\n",
    "\n",
    "  **Use inline citation through HTML footnotes to specify which references support which statements** \n",
    "\n",
    "For example: After government genocide in the 20th century, real birds were replaced with surveillance drones designed to look just like birds.<a name=\"cite_ref-1\"></a>[<sup>1</sup>](#cite_note-1) Use a minimum of 2 or 3 citations, but we prefer more.<a name=\"cite_ref-2\"></a>[<sup>2</sup>](#cite_note-2) You need enough to fully explain and back up important facts. \n",
    "\n",
    "Note that if you click a footnote number in the paragraph above it will transport you to the proper entry in the footnotes list below.  And if you click the ^ in the footnote entry, it will return you to the place in the main text where the footnote is made.\n",
    "\n",
    "To understand the HTML here, `<a name=\"#...\"> </a>` is a tag that allows you produce a named reference for a given location.  Markdown has the construciton `[text with hyperlink](#named reference)` that will produce a clickable link that transports you the named reference.\n",
    "\n",
    "1. <a name=\"cite_note-1\"></a> [^](#cite_ref-1) Lorenz, T. (9 Dec 2021) Birds Aren’t Real, or Are They? Inside a Gen Z Conspiracy Theory. *The New York Times*. https://www.nytimes.com/2021/12/09/technology/birds-arent-real-gen-z-misinformation.html \n",
    "2. <a name=\"cite_note-2\"></a> [^](#cite_ref-2) Also refs should be important to the background, not some randomly chosen vaguely related stuff. Include a web link if possible in refs as above.\n",
    "\n",
    "\n",
    "Our project aims to understand the monetary effects and change in popularity of Louis Vuitton as a brand after appointing Pharell as the menswear designer. For a brand to grow successfully, it is important to track the effectiveness of each business decision by measuring audience perception and receptiveness. Data analysis is a crucial element when it comes to tracking these changes, as you can compare the effects of a brand campaign across different social media platforms by tracking media engagement and sales. These quantifiable numbers give the company a clear sense of the best strategies to implement for future advertising endeavors[1]. When it comes to tracking media engagement, we found that utilizing google trends data to track key performance indicators would be a good way to measure brand awareness. Since Pharell is a well known celebrity, we think it would be beneficial to track social media engagement and measure the volume of likes, retweets, and hashtags of Louis Vuitton.\n",
    "\n",
    "After doing some initial research, we know that Pharell’s debut collection was released to the public around June of 2023 and he was announced as the LV menswear designer around February of 2024[2]. The general public has some sort of knowledge of Pharell’s designs so analyzing datasets of LV stock prices before and after February 2024 would give insight to the public’s receptiveness to this decision and whether or not LV has increased their brand popularity with this appointment. One project that had some similarity with our research question was from winter of 2021 and it measured movie popularity and conducted revenue analysis. They concluded that pre-release search popularity had a positive relationship with revenue. Similarly, we plan to explore the relationship between Pharell and LV popularity and sales. \n",
    "\n",
    "According to research, it has been shown that celebrities and influencers can have a great impact on the perception of a brand or company, especially in an industry like luxury fashion. For example, in Carson Miller’s study “The Fenty Effect: A Case Study on the Fusion of Celebrity, Luxury, and Inclusivity”, it is described how inclusivity in the luxury cosmetics industry was redefined by the Introduction of Fenty Beauty by Rihanna, which led to a highly increased sales and engagement on social media, while simultaneously setting new standards in this industry as this launch included a large range of makeup shades, encouraging inclusivity and diversity in luxury brands. Additionally, celebrities representing a brand represent inclusivity. Zendaya’s collaboration with Valentino challenges traditional beauty standards in the luxury industry. \n",
    "\n"
   ]
  },
  {
   "cell_type": "markdown",
   "metadata": {},
   "source": [
    "# Hypothesis\n"
   ]
  },
  {
   "cell_type": "markdown",
   "metadata": {},
   "source": [
    "\n",
    "- Include your team's hypothesis\n",
    "- Ensure that this hypothesis is clear to readers\n",
    "- Explain why you think this will be the outcome (what was your thinking?)\n",
    "\n",
    "What is your main hypothesis/predictions about what the answer to your question is? Briefly explain your thinking. (2-3 sentences)\n",
    "\n",
    "We expect there to be a direct correlation between the appointment of Pharell Williams as the head designer for menswear fashion at Louis Vuitton and the overall increase in popularity of the brand in terms of online searches and an increase in positive sentiment toward it. This is because Pharell is an icon in his own right, with a dominating global presence, and is one of the most famous music producers out there. Appointing him a menswear designer is also a big step in the direction of race inclusivity because traditionally, luxury brands like Louis Vuitton have targeted the rich white community who are typically associated with high-class fashion."
   ]
  },
  {
   "cell_type": "markdown",
   "metadata": {},
   "source": [
    "# Data"
   ]
  },
  {
   "cell_type": "markdown",
   "metadata": {},
   "source": [
    "## Data overview\n",
    "\n",
    "For each dataset include the following information\n",
    "- Dataset #1\n",
    "  - Dataset Name: Louis Vuitton Stock Data (All Time)\n",
    "  - Link to the dataset: https://www.kaggle.com/datasets/dhruvshan/louis-vuitton-stock-data-all-time/data\n",
    "  - Number of observations: 3436\n",
    "  - Number of variables: 7\n",
    "- Dataset #2\n",
    "  - Dataset Name: Pharrell Louis Vuitton’ Google Trends Data\n",
    "  - Link to the dataset: https://1drv.ms/x/c/20da746c87d03d2e/EdKpFBeF8dlOgTgWhFfWcjoBSHfMOuAD_fDXLhZcbVwM4A?e=euWvc6\n",
    "  - Number of observations: 106\n",
    "  - Number of variables: 2\n",
    "- Dataset #3\n",
    "  - Dataset Name: Louis Vuitton’ Google Trends Data\n",
    "  - Link to the dataset: https://1drv.ms/x/c/20da746c87d03d2e/EZCbvQf-GL5BrVFnj0Dji0sB4CUK8DLp3DBIWfTDdZEfkg?e=MFTbhf\n",
    "  - Number of observations: 106\n",
    "  - Number of variables: 2\n",
    "\n",
    "\n",
    "Now write 2 - 5 sentences describing each dataset here. Include a short description of the important variables in the dataset; what the metrics and datatypes are, what concepts they may be proxies for. Include information about how you would need to wrangle/clean/preprocess the dataset\n",
    "\n",
    "If you plan to use multiple datasets, add a few sentences about how you plan to combine these datasets.\n",
    "\n",
    "Data set 1 includes the stock data of the parent company Louis Vuitton LVMH through dates 2010-04-25 to 2023-12-14. It consists of each date throughout the years ( which is a string variable), the opening stock price of that day (numeric data), the highest stock price for LVMH that day (numeric data), the lowest stock price that day(numeric data), the adjusted stock price (numeric), the closing stock price of the day(numeric) as well as the volume of shares (numeric) of LVMH traded that day. These variables are relevant as they demonstrate the change in stock price of LVMH; Louis Vuitton and therefore its value throughout the years. This will be helpful in correlating the increase in the popularity and value of the brand with pharell’s appointment as the chief menswear designer at Louis vuitton. We would clean this data by converting the ‘Date’ column from string to a datetime format, checking for any missing values, renaming the columns for easier referencing, and filtering by specific dates.\n",
    "\n",
    "Data set 2 & 3 include Google Trends data that captures the overall search interest for the terms “Louis Vuitton” and “Pharrell Louis Vuitton” respectively from 09/01/2022-09/01/2024 in the United States. This data consists of 2 main variables: “Week” which is a date data type, and “LV_Interest” for the first dataset or “Pharell_ LV_Interest” for the second dataset, these are numeric data types. The ‘Week’ variable allows us to track trends in search interest over a period of time, The other variables measure the search interest for each of these terms on a scale of 0 to 100, where a higher score represents a bigger public interest. The search interest score serves as a proxy to gauge general public sentiment and media attention towards Pharrell’s impact on Louis Vuitton’s image. This data will help us understand if there are any shifts in popularity within the company. In order to clean and prepare this dataset we would have to remove any introductory rows, format the ‘Week” variable column to a standard date format, and make all the headers consistent. We will be combining this dataset with LVMH’s stock price data (from dataset 1) to analyze if there is any relationship between public interest and shifts in the financial performance of Louis Vuitton.\n",
    "\n"
   ]
  },
  {
   "cell_type": "markdown",
   "metadata": {},
   "source": [
    "## Louis Vuitton Stock Data (All Time)"
   ]
  },
  {
   "cell_type": "code",
   "execution_count": 13,
   "metadata": {},
   "outputs": [
    {
     "ename": "ModuleNotFoundError",
     "evalue": "No module named 'pandas'",
     "output_type": "error",
     "traceback": [
      "\u001b[0;31m---------------------------------------------------------------------------\u001b[0m",
      "\u001b[0;31mModuleNotFoundError\u001b[0m                       Traceback (most recent call last)",
      "Cell \u001b[0;32mIn[13], line 1\u001b[0m\n\u001b[0;32m----> 1\u001b[0m \u001b[38;5;28;01mimport\u001b[39;00m \u001b[38;5;21;01mpandas\u001b[39;00m \u001b[38;5;28;01mas\u001b[39;00m \u001b[38;5;21;01mpd\u001b[39;00m\n\u001b[1;32m      2\u001b[0m file_path \u001b[38;5;241m=\u001b[39m \u001b[38;5;124m\"\u001b[39m\u001b[38;5;124mLVMHF.csv\u001b[39m\u001b[38;5;124m\"\u001b[39m\n\u001b[1;32m      3\u001b[0m stock_data \u001b[38;5;241m=\u001b[39m pd\u001b[38;5;241m.\u001b[39mread_csv(file_path)\n",
      "\u001b[0;31mModuleNotFoundError\u001b[0m: No module named 'pandas'"
     ]
    }
   ],
   "source": [
    "import pandas as pd\n",
    "file_path = \"LVMHF.csv\"\n",
    "stock_data = pd.read_csv(file_path)\n",
    "stock_data['Date'] = pd.to_datetime(stock_data['Date'], errors='coerce')\n",
    "print(stock_data.isnull().sum()) \n",
    "stock_data.dropna(subset=['Date', 'Close'], inplace=True)\n",
    "#start_date = '2022-09-01' end_date = '2023-08-01' stock_data = stock_data[(stock_data['Date'] >= start_date) & (stock_data['Date'] <= end_date)]\n",
    "stock_data.columns = ['Date', 'Open', 'High', 'Low', 'Close', 'Adj_Close', 'Volume']\n",
    "print(stock_data.head())"
   ]
  },
  {
   "cell_type": "markdown",
   "metadata": {},
   "source": [
    "## Pharrell Louis Vuitton’ Google Trends Data (09/01/2022-09/01/2024)"
   ]
  },
  {
   "cell_type": "code",
   "execution_count": 3,
   "metadata": {},
   "outputs": [
    {
     "ename": "ModuleNotFoundError",
     "evalue": "No module named 'pandas'",
     "output_type": "error",
     "traceback": [
      "\u001b[0;31m---------------------------------------------------------------------------\u001b[0m",
      "\u001b[0;31mModuleNotFoundError\u001b[0m                       Traceback (most recent call last)",
      "Cell \u001b[0;32mIn[3], line 1\u001b[0m\n\u001b[0;32m----> 1\u001b[0m \u001b[38;5;28;01mimport\u001b[39;00m \u001b[38;5;21;01mpandas\u001b[39;00m \u001b[38;5;28;01mas\u001b[39;00m \u001b[38;5;21;01mpd\u001b[39;00m\n\u001b[1;32m      2\u001b[0m file_path \u001b[38;5;241m=\u001b[39m \u001b[38;5;124m\"\u001b[39m\u001b[38;5;124mmultiTimeline(Pharrell Louis Vuitton).csv\u001b[39m\u001b[38;5;124m\"\u001b[39m\n\u001b[1;32m      3\u001b[0m data \u001b[38;5;241m=\u001b[39m pd\u001b[38;5;241m.\u001b[39mread_csv(file_path, header\u001b[38;5;241m=\u001b[39m\u001b[38;5;241m2\u001b[39m)\n",
      "\u001b[0;31mModuleNotFoundError\u001b[0m: No module named 'pandas'"
     ]
    }
   ],
   "source": [
    "import pandas as pd\n",
    "file_path = \"multiTimeline(Pharrell Louis Vuitton).csv\"\n",
    "data = pd.read_csv(file_path, header=2)\n",
    "data.columns = ['Week', 'Pharrell_LV_Interest']\n",
    "data['Week'] = pd.to_datetime(data['Week'], errors='coerce')\n",
    "data.dropna(subset=['Week'], inplace=True)\n",
    "print(data.head())"
   ]
  },
  {
   "cell_type": "code",
   "execution_count": null,
   "metadata": {},
   "outputs": [],
   "source": [
    "stock_data['Date'] = pd.to_datetime(stock_data['Date'], errors='coerce')\n",
    "data['Week'] = pd.to_datetime(data['Week'], errors='coerce')\n",
    "\n",
    "merged_data = pd.merge_asof(\n",
    "    stock_data.sort_values('Date'), \n",
    "    data.sort_values('Week'), \n",
    "    left_on='Date', \n",
    "    right_on='Week', \n",
    "    direction='backward'\n",
    ")\n",
    "\n",
    "start_date = '2022-09-01'\n",
    "end_date = '2023-08-01'\n",
    "filtered_data = merged_data[(merged_data['Date'] >= start_date) & (merged_data['Date'] <= end_date)]"
   ]
  },
  {
   "cell_type": "markdown",
   "metadata": {},
   "source": [
    "# Results\n",
    "\n",
    "## Exploratory Data Analysis\n",
    "\n",
    "Carry out whatever EDA you need to for your project.  Because every project will be different we can't really give you much of a template at this point. But please make sure you describe the what and why in text here as well as providing interpretation of results and context."
   ]
  },
  {
   "cell_type": "markdown",
   "metadata": {},
   "source": [
    "## Louis Vuitton Stock Prices vs Search Interest\n",
    "\n",
    "Some more words and stuff.  Remember notebooks work best if you interleave the code that generates a result with properly annotate figures and text that puts these results into context."
   ]
  },
  {
   "cell_type": "code",
   "execution_count": null,
   "metadata": {},
   "outputs": [],
   "source": [
    "import matplotlib.pyplot as plt\n",
    "plt.figure(figsize=(12, 6))\n",
    "plt.plot(filtered_data['Date'], filtered_data['Close'], label='Closing Price')\n",
    "plt.plot(filtered_data['Date'], filtered_data['Pharrell_LV_Interest'], label='Search Interest', alpha=0.7)\n",
    "plt.axvline(pd.Timestamp('2023-02-14'), color='red', linestyle='--', label='Pharrell Appointment')\n",
    "plt.legend()\n",
    "plt.title('Louis Vuitton Stock Prices vs Search Interest')\n",
    "plt.show()"
   ]
  },
  {
   "cell_type": "markdown",
   "metadata": {},
   "source": [
    "## Monthly Average Closing Price\n",
    "\n",
    "Some more words and stuff.  Remember notebooks work best if you interleave the code that generates a result with properly annotate figures and text that puts these results into context."
   ]
  },
  {
   "cell_type": "code",
   "execution_count": null,
   "metadata": {},
   "outputs": [],
   "source": [
    "filtered_data['Month'] = filtered_data['Date'].dt.to_period('M')\n",
    "monthly_avg = filtered_data.groupby('Month')['Close'].mean().reset_index()\n",
    "plt.bar(monthly_avg['Month'].astype(str), monthly_avg['Close'])\n",
    "plt.xticks(rotation=45)\n",
    "plt.title('Monthly Average Closing Price')\n",
    "plt.show()"
   ]
  },
  {
   "cell_type": "markdown",
   "metadata": {},
   "source": [
    "## Pharrell Louis Vuitton Search Interest vs Appointment Date"
   ]
  },
  {
   "cell_type": "code",
   "execution_count": null,
   "metadata": {},
   "outputs": [],
   "source": [
    "plt.figure(figsize=(12, 6))\n",
    "plt.plot(filtered_data['Week'], filtered_data['Pharrell_LV_Interest'], label='Pharrell LV Search Interest', color='blue')\n",
    "\n",
    "announcement_date = pd.Timestamp('2023-02-14')\n",
    "plt.axvline(announcement_date, color='red', linestyle='--', label='Pharrell Appointment (2023-02-14)')\n",
    "\n",
    "plt.legend()\n",
    "plt.title('Pharrell Louis Vuitton Search Interest vs Appointment Date')\n",
    "plt.xlabel('Date')\n",
    "plt.ylabel('Search Interest')\n",
    "plt.xticks(rotation=45)\n",
    "\n",
    "plt.show()"
   ]
  },
  {
   "cell_type": "markdown",
   "metadata": {},
   "source": [
    "## Monthly Average Closing Price"
   ]
  },
  {
   "cell_type": "code",
   "execution_count": null,
   "metadata": {},
   "outputs": [],
   "source": [
    "import seaborn as sns\n",
    "correlation_matrix = merged_data[['Close', 'Pharrell_LV_Interest']].corr()\n",
    "\n",
    "plt.figure(figsize=(6, 4))\n",
    "sns.heatmap(correlation_matrix, annot=True, cmap='coolwarm', fmt='.2f', cbar=True)\n",
    "plt.title('Correlation Coefficient Heatmap: Louis Vuitton Stock vs Pharrell Interest')\n",
    "plt.show()"
   ]
  },
  {
   "cell_type": "markdown",
   "metadata": {},
   "source": [
    "# Ethics & Privacy"
   ]
  },
  {
   "cell_type": "markdown",
   "metadata": {},
   "source": [
    "- Thoughtful discussion of ethical concerns included\n",
    "- Ethical concerns consider the whole data science process (question asked, data collected, data being used, the bias in data, analysis, post-analysis, etc.)\n",
    "- How your group handled bias/ethical concerns clearly described\n",
    "\n",
    "Acknowledge and address any ethics & privacy related issues of your question(s), proposed dataset(s), and/or analyses. Use the information provided in lecture to guide your group discussion and thinking. If you need further guidance, check out [Deon's Ethics Checklist](http://deon.drivendata.org/#data-science-ethics-checklist). In particular:\n",
    "\n",
    "- Are there any biases/privacy/terms of use issues with the data you propsed?\n",
    "- Are there potential biases in your dataset(s), in terms of who it composes, and how it was collected, that may be problematic in terms of it allowing for equitable analysis? (For example, does your data exclude particular populations, or is it likely to reflect particular human biases in a way that could be a problem?)\n",
    "- How will you set out to detect these specific biases before, during, and after/when communicating your analysis?\n",
    "- Are there any other issues related to your topic area, data, and/or analyses that are potentially problematic in terms of data privacy and equitable impact?\n",
    "- How will you handle issues you identified?\n",
    "\n",
    "\n",
    "When deciding to examine Louis Vuitton’s sales after Pharallel Williams takeover as the menswear designer, the biases that can arise are outside factors that may have influenced the sales of Louis Vuitton clothing that may not be directly related to Pharallel Williams. We must share our methodology for cleaning data to maintain transparency.\n",
    "\n",
    "Bias Checks: We regularly checked for sampling and representation biases by examining demographic distributions in our data samples and diversifying sources where necessary.\n",
    "Community Findings: In communicating results, we would need to explicitly state the limitations, cautioning against overgeneralizing Pharrell’s influence across all customer demographics. This would ensure LV and stakeholders approach conclusions with a nuanced perspective.\n",
    "Data Interpretation: Interpreting \"popularity\" is subjective; we’ll avoid inferring causation where only correlation is shown. Ethical analysis should be cautious of misrepresenting data as direct evidence of Pharrell’s impact.\n",
    "Privacy Compliance: If data is gathered from third-party sources like social media or customer purchase records, privacy regulations like GDPR must be strictly followed. User consent, data anonymization, and usage within intended purposes are critical to avoid privacy violations.\n",
    "Transparency in Data Cleaning and Methodology: To prevent misinterpretation, it’s crucial to document and share data cleaning steps clearly, specifying any data removed or imputed to maintain transparency. This openness helps stakeholders understand limitations and fosters trust in findings.\n",
    "During Analysis: We will implement statistical techniques to control for external variables, such as econometric modeling or propensity score matching, which can isolate Pharrell Williams' influence from other external factors.\n",
    "Equitable Analysis: To promote fair interpretation, emphasize inclusive sampling and highlight any underrepresented groups in reporting. If some customer segments are not represented equally, make recommendations to address this gap in future data collection."
   ]
  },
  {
   "cell_type": "markdown",
   "metadata": {},
   "source": [
    "# Discusison and Conclusion\n",
    "\n",
    "Wrap it all up here.  Somewhere between 3 and 10 paragraphs roughly.  A good time to refer back to your Background section and review how this work extended the previous stuff. \n",
    "\n",
    "\n",
    "# Team Contributions\n",
    "\n",
    "Speficy who did what.  This should be pretty granular, perhaps bullet points, no more than a few sentences per person."
   ]
  }
 ],
 "metadata": {
  "kernelspec": {
   "display_name": "Python 3",
   "language": "python",
   "name": "python3"
  },
  "language_info": {
   "codemirror_mode": {
    "name": "ipython",
    "version": 3
   },
   "file_extension": ".py",
   "mimetype": "text/x-python",
   "name": "python",
   "nbconvert_exporter": "python",
   "pygments_lexer": "ipython3",
   "version": "3.9.6"
  }
 },
 "nbformat": 4,
 "nbformat_minor": 2
}
